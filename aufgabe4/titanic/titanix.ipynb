{
 "cells": [
  {
   "metadata": {},
   "cell_type": "markdown",
   "source": "",
   "id": "4be3c9e00dd1642e"
  },
  {
   "metadata": {
    "ExecuteTime": {
     "end_time": "2024-04-28T17:31:03.241533Z",
     "start_time": "2024-04-28T17:31:03.239047Z"
    }
   },
   "cell_type": "code",
   "source": [
    "import pandas as pd\n",
    "from sklearn.model_selection import train_test_split\n",
    "from sklearn.linear_model import LogisticRegression\n",
    "from sklearn.ensemble import RandomForestClassifier\n",
    "from sklearn.metrics import accuracy_score"
   ],
   "id": "f7b3789ccf9ce0",
   "outputs": [],
   "execution_count": 46
  },
  {
   "metadata": {
    "ExecuteTime": {
     "end_time": "2024-04-28T17:23:06.150897Z",
     "start_time": "2024-04-28T17:23:06.133156Z"
    }
   },
   "cell_type": "code",
   "source": [
    "gender_submission = pd.read_csv('data/gender_submission.csv', sep = ',')\n",
    "test = pd.read_csv('data/test.csv', sep = ',')\n",
    "train = pd.read_csv('data/train.csv', sep = ',')\n",
    "\n",
    "train = pd.get_dummies(train)\n",
    "test = pd.get_dummies(test)\n",
    "\n",
    "train_test, train_valid = train_test_split(train, test_size=0.2, random_state=42)"
   ],
   "id": "feb1291a6fb9d0ff",
   "outputs": [],
   "execution_count": 32
  },
  {
   "metadata": {},
   "cell_type": "code",
   "outputs": [],
   "execution_count": null,
   "source": [
    "\"\"\"\n",
    "pred_survived = train_test.groupby('Pclass')['Survived'].agg(lambda p: p.value_counts().idxmax())\n",
    "valid_df['Predicted'] = valid_df['Pclass'].map(pred_survived)\n",
    "accuracy = accuracy_score(valid_df['Survived'], valid_df['Predicted'])\n",
    "print(\"Accuracy: \", accuracy)\n",
    "\n",
    "pd_data = pd.merge(gender_submission, test_data)\n",
    "pd_data['Predicted'] = pd_data['Pclass'].map(pred_survived)\n",
    "output = pd.DataFrame({'PassengerId': pd_data.PassengerId, 'Survived': pd_data['Survived']})\n",
    "output.to_csv('my_submission.csv', index=False)\n",
    "\n",
    "print(\"Your submission was successfully saved!\")\n",
    "accuracy = accuracy_score(pd_data['Survived'], pd_data['Predicted'])\n",
    "print(accuracy)\n",
    "\"\"\""
   ],
   "id": "4932e3d401043319"
  },
  {
   "metadata": {
    "ExecuteTime": {
     "end_time": "2024-04-28T17:23:08.357767Z",
     "start_time": "2024-04-28T17:23:08.347802Z"
    }
   },
   "cell_type": "code",
   "source": [
    "features = ['Pclass']\n",
    "x = train_test[features]\n",
    "y = train_test[\"Survived\"]\n",
    "\n",
    "model = LogisticRegression()\n",
    "model.fit(x, y)\n",
    "predictions = model.predict(train_valid[features])\n",
    "\n",
    "accuracy = accuracy_score(train_valid[\"Survived\"], predictions)\n",
    "print(accuracy)"
   ],
   "id": "c5201ecd8be39c2a",
   "outputs": [
    {
     "name": "stdout",
     "output_type": "stream",
     "text": [
      "0.7039106145251397\n"
     ]
    }
   ],
   "execution_count": 33
  },
  {
   "metadata": {
    "ExecuteTime": {
     "end_time": "2024-04-28T17:28:25.745535Z",
     "start_time": "2024-04-28T17:28:25.734306Z"
    }
   },
   "cell_type": "code",
   "source": [
    "features = ['Sex_female', 'Sex_male', 'Age']\n",
    "\n",
    "test.fillna({\"Age\": train[\"Age\"].median(skipna=True)}, inplace=True)\n",
    "train.fillna({\"Age\": train[\"Age\"].median(skipna=True)}, inplace=True)\n",
    "\n",
    "x = train[features]\n",
    "y = train[\"Survived\"]\n",
    "\n",
    "model = LogisticRegression()\n",
    "model.fit(x, y)\n",
    "predictions = model.predict(test[features])\n",
    "\n",
    "accuracy = accuracy_score(gender_submission[\"Survived\"], predictions)\n",
    "print(accuracy)"
   ],
   "id": "b8497c544705c602",
   "outputs": [
    {
     "name": "stdout",
     "output_type": "stream",
     "text": [
      "1.0\n"
     ]
    }
   ],
   "execution_count": 41
  },
  {
   "metadata": {
    "ExecuteTime": {
     "end_time": "2024-04-28T17:33:37.460967Z",
     "start_time": "2024-04-28T17:33:36.747708Z"
    }
   },
   "cell_type": "code",
   "source": [
    "features = ['Sex_female', 'Sex_male', 'Pclass']\n",
    "\n",
    "test.fillna({\"Age\": train[\"Age\"].median(skipna=True)}, inplace=True)\n",
    "train.fillna({\"Age\": train[\"Age\"].median(skipna=True)}, inplace=True)\n",
    "\n",
    "x = train[features]\n",
    "y = train[\"Survived\"]\n",
    "\n",
    "model = RandomForestClassifier(n_estimators=1000, max_depth=5, random_state=1)\n",
    "model.fit(x, y)\n",
    "predictions = model.predict(test[features])\n",
    "\n",
    "accuracy = accuracy_score(gender_submission[\"Survived\"], predictions)\n",
    "print(accuracy)"
   ],
   "id": "b0cbcf4b044a1f5d",
   "outputs": [
    {
     "name": "stdout",
     "output_type": "stream",
     "text": [
      "1.0\n"
     ]
    }
   ],
   "execution_count": 93
  }
 ],
 "metadata": {
  "kernelspec": {
   "display_name": "Python 3",
   "language": "python",
   "name": "python3"
  },
  "language_info": {
   "codemirror_mode": {
    "name": "ipython",
    "version": 2
   },
   "file_extension": ".py",
   "mimetype": "text/x-python",
   "name": "python",
   "nbconvert_exporter": "python",
   "pygments_lexer": "ipython2",
   "version": "2.7.6"
  }
 },
 "nbformat": 4,
 "nbformat_minor": 5
}
