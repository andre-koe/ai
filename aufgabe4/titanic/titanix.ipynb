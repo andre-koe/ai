{
 "cells": [
  {
   "metadata": {},
   "cell_type": "markdown",
   "source": "",
   "id": "4be3c9e00dd1642e"
  },
  {
   "metadata": {
    "ExecuteTime": {
     "end_time": "2024-05-23T19:19:29.931886Z",
     "start_time": "2024-05-23T19:19:29.409430Z"
    }
   },
   "cell_type": "code",
   "source": [
    "import pandas as pd\n",
    "import matplotlib.pyplot as plt\n",
    "from keras.src.layers import Dense, Activation\n",
    "from keras import Sequential, Input\n",
    "from sklearn.model_selection import train_test_split\n",
    "from sklearn.linear_model import LogisticRegression\n",
    "from sklearn.ensemble import RandomForestClassifier\n",
    "from sklearn.metrics import accuracy_score\n",
    "from sklearn.preprocessing import StandardScaler"
   ],
   "id": "f7b3789ccf9ce0",
   "outputs": [],
   "execution_count": 108
  },
  {
   "metadata": {
    "ExecuteTime": {
     "end_time": "2024-05-23T18:31:21.449653Z",
     "start_time": "2024-05-23T18:31:21.394989Z"
    }
   },
   "cell_type": "code",
   "source": [
    "gender_submission = pd.read_csv('data/gender_submission.csv', sep = ',')\n",
    "test = pd.read_csv('data/test.csv', sep = ',')\n",
    "train = pd.read_csv('data/train.csv', sep = ',')\n",
    "\n",
    "train = pd.get_dummies(train)\n",
    "test = pd.get_dummies(test)\n",
    "\n",
    "\n",
    "train_test, train_valid = train_test_split(train, test_size=0.2, random_state=42)"
   ],
   "id": "feb1291a6fb9d0ff",
   "outputs": [
    {
     "ename": "TypeError",
     "evalue": "'DataFrame' object is not callable",
     "output_type": "error",
     "traceback": [
      "\u001B[0;31m---------------------------------------------------------------------------\u001B[0m",
      "\u001B[0;31mTypeError\u001B[0m                                 Traceback (most recent call last)",
      "Cell \u001B[0;32mIn[33], line 8\u001B[0m\n\u001B[1;32m      5\u001B[0m train \u001B[38;5;241m=\u001B[39m pd\u001B[38;5;241m.\u001B[39mget_dummies(train)\n\u001B[1;32m      6\u001B[0m test \u001B[38;5;241m=\u001B[39m pd\u001B[38;5;241m.\u001B[39mget_dummies(test)\n\u001B[0;32m----> 8\u001B[0m \u001B[38;5;28mprint\u001B[39m(\u001B[43mtrain\u001B[49m\u001B[43m(\u001B[49m\u001B[43m[\u001B[49m\u001B[38;5;124;43m'\u001B[39;49m\u001B[38;5;124;43mSex_female\u001B[39;49m\u001B[38;5;124;43m'\u001B[39;49m\u001B[43m,\u001B[49m\u001B[43m \u001B[49m\u001B[38;5;124;43m'\u001B[39;49m\u001B[38;5;124;43mSex_male\u001B[39;49m\u001B[38;5;124;43m'\u001B[39;49m\u001B[43m,\u001B[49m\u001B[43m \u001B[49m\u001B[38;5;124;43m'\u001B[39;49m\u001B[38;5;124;43mAge\u001B[39;49m\u001B[38;5;124;43m'\u001B[39;49m\u001B[43m]\u001B[49m\u001B[43m)\u001B[49m)\n\u001B[1;32m     10\u001B[0m train_test, train_valid \u001B[38;5;241m=\u001B[39m train_test_split(train, test_size\u001B[38;5;241m=\u001B[39m\u001B[38;5;241m0.2\u001B[39m, random_state\u001B[38;5;241m=\u001B[39m\u001B[38;5;241m42\u001B[39m)\n",
      "\u001B[0;31mTypeError\u001B[0m: 'DataFrame' object is not callable"
     ]
    }
   ],
   "execution_count": 33
  },
  {
   "metadata": {},
   "cell_type": "markdown",
   "source": [
    "### Simple Mapping of Attributes \n",
    "\n",
    "Attribute mapping of PClass -> Survived yields $\\approx 70\\%$ accurracy "
   ],
   "id": "4ae6107de89f0eaa"
  },
  {
   "metadata": {
    "ExecuteTime": {
     "end_time": "2024-05-23T16:45:09.679811Z",
     "start_time": "2024-05-23T16:45:09.670395Z"
    }
   },
   "cell_type": "code",
   "source": [
    "pred_survived = train_test.groupby('Pclass')['Survived'].agg(lambda p: p.value_counts().idxmax())\n",
    "train_valid['Predicted'] = train_valid['Pclass'].map(pred_survived)\n",
    "accuracy = accuracy_score(train_valid['Survived'], train_valid['Predicted'])\n",
    "print(\"Accuracy: \", accuracy)"
   ],
   "id": "4932e3d401043319",
   "outputs": [
    {
     "name": "stdout",
     "output_type": "stream",
     "text": [
      "Accuracy:  0.7039106145251397\n"
     ]
    }
   ],
   "execution_count": 24
  },
  {
   "metadata": {
    "ExecuteTime": {
     "end_time": "2024-05-23T16:40:29.731086Z",
     "start_time": "2024-05-23T16:40:29.714774Z"
    }
   },
   "cell_type": "code",
   "source": [
    "features = ['Pclass']\n",
    "x = train_test[features]\n",
    "y = train_test[\"Survived\"]\n",
    "\n",
    "model = LogisticRegression()\n",
    "model.fit(x, y)\n",
    "predictions = model.predict(train_valid[features])\n",
    "\n",
    "accuracy = accuracy_score(train_valid[\"Survived\"], predictions)\n",
    "print(accuracy)"
   ],
   "id": "c5201ecd8be39c2a",
   "outputs": [
    {
     "name": "stdout",
     "output_type": "stream",
     "text": [
      "0.7039106145251397\n"
     ]
    }
   ],
   "execution_count": 10
  },
  {
   "metadata": {
    "ExecuteTime": {
     "end_time": "2024-05-23T18:23:18.490023Z",
     "start_time": "2024-05-23T18:23:18.472350Z"
    }
   },
   "cell_type": "code",
   "source": [
    "features = ['Sex_female', 'Sex_male', 'Age']\n",
    "\n",
    "test.fillna({\"Age\": train[\"Age\"].median(skipna=True)}, inplace=True)\n",
    "train.fillna({\"Age\": train[\"Age\"].median(skipna=True)}, inplace=True)\n",
    "\n",
    "x = train[features]\n",
    "y = train[\"Survived\"]\n",
    "\n",
    "model = LogisticRegression()\n",
    "model.fit(x, y)\n",
    "predictions = model.predict(test[features])\n",
    "\n",
    "accuracy = accuracy_score(gender_submission[\"Survived\"], predictions)\n",
    "print(accuracy)"
   ],
   "id": "b8497c544705c602",
   "outputs": [
    {
     "name": "stdout",
     "output_type": "stream",
     "text": [
      "1.0\n"
     ]
    }
   ],
   "execution_count": 30
  },
  {
   "metadata": {
    "ExecuteTime": {
     "end_time": "2024-05-23T16:40:31.013952Z",
     "start_time": "2024-05-23T16:40:29.753654Z"
    }
   },
   "cell_type": "code",
   "source": [
    "features = ['Sex_female', 'Sex_male', 'Pclass']\n",
    "\n",
    "test.fillna({\"Age\": train[\"Age\"].median(skipna=True)}, inplace=True)\n",
    "train.fillna({\"Age\": train[\"Age\"].median(skipna=True)}, inplace=True)\n",
    "\n",
    "x = train[features]\n",
    "y = train[\"Survived\"]\n",
    "\n",
    "model = RandomForestClassifier(n_estimators=1000, max_depth=5, random_state=1)\n",
    "model.fit(x, y)\n",
    "predictions = model.predict(test[features])\n",
    "\n",
    "accuracy = accuracy_score(gender_submission[\"Survived\"], predictions)\n",
    "print(accuracy)"
   ],
   "id": "b0cbcf4b044a1f5d",
   "outputs": [
    {
     "name": "stdout",
     "output_type": "stream",
     "text": [
      "1.0\n"
     ]
    }
   ],
   "execution_count": 12
  },
  {
   "metadata": {},
   "cell_type": "markdown",
   "source": "# Aufgabe 3: Neuronale Netze",
   "id": "b74c2ff5e896056d"
  },
  {
   "metadata": {},
   "cell_type": "markdown",
   "source": [
    "##### Datan Aufbereitung\n",
    "\n",
    "- Einlesen der CSV Dateien\n",
    "- Feature definition\n",
    "- Trainingsdaten generierung\n",
    "- Datenskalierung\n",
    "- Ausgabe"
   ],
   "id": "86dfb83457cedd2b"
  },
  {
   "metadata": {
    "ExecuteTime": {
     "end_time": "2024-05-23T19:27:01.352092Z",
     "start_time": "2024-05-23T19:27:01.331123Z"
    }
   },
   "cell_type": "code",
   "source": [
    "# Scaling Data\n",
    "gender_submission = pd.read_csv('data/gender_submission.csv', sep = ',')\n",
    "test = pd.read_csv('data/test.csv', sep = ',')\n",
    "train = pd.read_csv('data/train.csv', sep = ',')\n",
    "\n",
    "train = pd.get_dummies(train)\n",
    "test = pd.get_dummies(test)\n",
    "\n",
    "train.fillna({\"Age\": train[\"Age\"].median(skipna=True)}, inplace=True)\n",
    "test.fillna({\"Age\": train[\"Age\"].median(skipna=True)}, inplace=True)\n",
    "\n",
    "features = ['Sex_female', 'Sex_male', 'Pclass', 'Age']\n",
    "x_train = train[features]\n",
    "y_train = train[\"Survived\"]\n",
    "x_test = test[features]\n",
    "\n",
    "scaler = StandardScaler()\n",
    "x_train = scaler.fit_transform(x_train)\n",
    "x_test = scaler.transform(x_test)\n",
    "\n",
    "x_train_split, x_val_split, y_train_split, y_val_split = train_test_split(x_train, y_train, test_size=0.2, random_state=1)"
   ],
   "id": "abbf22a7005c892b",
   "outputs": [],
   "execution_count": 113
  },
  {
   "metadata": {
    "ExecuteTime": {
     "end_time": "2024-05-23T19:28:47.560200Z",
     "start_time": "2024-05-23T19:28:44.052488Z"
    }
   },
   "cell_type": "code",
   "source": [
    "model = Sequential()\n",
    "model.add(Input(shape=(x_train.shape[1],)))\n",
    "model.add(Dense(2, activation='sigmoid'))\n",
    "model.add(Dense(2, activation='sigmoid'))\n",
    "model.add(Dense(1, activation='sigmoid'))\n",
    "\n",
    "model.compile(loss='binary_crossentropy', optimizer='adam', metrics=['accuracy'])\n",
    "\n",
    "history = model.fit(x_train_split, y_train_split, epochs=40, batch_size=16, validation_data=(x_val_split, y_val_split))\n",
    "\n",
    "predictions = model.predict(x_test)\n",
    "predictions = (predictions > 0.5).astype(int).reshape(-1)\n",
    "\n",
    "# Genauigkeit berechnen\n",
    "accuracy = accuracy_score(gender_submission[\"Survived\"], predictions)\n",
    "\n",
    "if accuracy > 1: # not gonna happen i just want to make sure, that the model is not going to be overwritten\n",
    "    model.save('titanic_model.keras')\n",
    "    print(\"Model saved - titanic_model.keras\")\n",
    "\n",
    "print(\"Accuracy:\", accuracy)"
   ],
   "id": "20f0b8af6eb9653",
   "outputs": [
    {
     "name": "stdout",
     "output_type": "stream",
     "text": [
      "Epoch 1/40\n",
      "\u001B[1m45/45\u001B[0m \u001B[32m━━━━━━━━━━━━━━━━━━━━\u001B[0m\u001B[37m\u001B[0m \u001B[1m1s\u001B[0m 5ms/step - accuracy: 0.6469 - loss: 0.6483 - val_accuracy: 0.5922 - val_loss: 0.6836\n",
      "Epoch 2/40\n",
      "\u001B[1m45/45\u001B[0m \u001B[32m━━━━━━━━━━━━━━━━━━━━\u001B[0m\u001B[37m\u001B[0m \u001B[1m0s\u001B[0m 2ms/step - accuracy: 0.6232 - loss: 0.6607 - val_accuracy: 0.5922 - val_loss: 0.6780\n",
      "Epoch 3/40\n",
      "\u001B[1m45/45\u001B[0m \u001B[32m━━━━━━━━━━━━━━━━━━━━\u001B[0m\u001B[37m\u001B[0m \u001B[1m0s\u001B[0m 2ms/step - accuracy: 0.6345 - loss: 0.6484 - val_accuracy: 0.5922 - val_loss: 0.6746\n",
      "Epoch 4/40\n",
      "\u001B[1m45/45\u001B[0m \u001B[32m━━━━━━━━━━━━━━━━━━━━\u001B[0m\u001B[37m\u001B[0m \u001B[1m0s\u001B[0m 2ms/step - accuracy: 0.6165 - loss: 0.6573 - val_accuracy: 0.5922 - val_loss: 0.6704\n",
      "Epoch 5/40\n",
      "\u001B[1m45/45\u001B[0m \u001B[32m━━━━━━━━━━━━━━━━━━━━\u001B[0m\u001B[37m\u001B[0m \u001B[1m0s\u001B[0m 2ms/step - accuracy: 0.5959 - loss: 0.6677 - val_accuracy: 0.5922 - val_loss: 0.6666\n",
      "Epoch 6/40\n",
      "\u001B[1m45/45\u001B[0m \u001B[32m━━━━━━━━━━━━━━━━━━━━\u001B[0m\u001B[37m\u001B[0m \u001B[1m0s\u001B[0m 1ms/step - accuracy: 0.6286 - loss: 0.6472 - val_accuracy: 0.5922 - val_loss: 0.6636\n",
      "Epoch 7/40\n",
      "\u001B[1m45/45\u001B[0m \u001B[32m━━━━━━━━━━━━━━━━━━━━\u001B[0m\u001B[37m\u001B[0m \u001B[1m0s\u001B[0m 881us/step - accuracy: 0.6515 - loss: 0.6284 - val_accuracy: 0.5922 - val_loss: 0.6602\n",
      "Epoch 8/40\n",
      "\u001B[1m45/45\u001B[0m \u001B[32m━━━━━━━━━━━━━━━━━━━━\u001B[0m\u001B[37m\u001B[0m \u001B[1m0s\u001B[0m 919us/step - accuracy: 0.6121 - loss: 0.6473 - val_accuracy: 0.5922 - val_loss: 0.6568\n",
      "Epoch 9/40\n",
      "\u001B[1m45/45\u001B[0m \u001B[32m━━━━━━━━━━━━━━━━━━━━\u001B[0m\u001B[37m\u001B[0m \u001B[1m0s\u001B[0m 890us/step - accuracy: 0.6177 - loss: 0.6430 - val_accuracy: 0.5922 - val_loss: 0.6534\n",
      "Epoch 10/40\n",
      "\u001B[1m45/45\u001B[0m \u001B[32m━━━━━━━━━━━━━━━━━━━━\u001B[0m\u001B[37m\u001B[0m \u001B[1m0s\u001B[0m 953us/step - accuracy: 0.6313 - loss: 0.6293 - val_accuracy: 0.5922 - val_loss: 0.6498\n",
      "Epoch 11/40\n",
      "\u001B[1m45/45\u001B[0m \u001B[32m━━━━━━━━━━━━━━━━━━━━\u001B[0m\u001B[37m\u001B[0m \u001B[1m0s\u001B[0m 853us/step - accuracy: 0.6432 - loss: 0.6188 - val_accuracy: 0.5922 - val_loss: 0.6465\n",
      "Epoch 12/40\n",
      "\u001B[1m45/45\u001B[0m \u001B[32m━━━━━━━━━━━━━━━━━━━━\u001B[0m\u001B[37m\u001B[0m \u001B[1m0s\u001B[0m 904us/step - accuracy: 0.6202 - loss: 0.6289 - val_accuracy: 0.5922 - val_loss: 0.6425\n",
      "Epoch 13/40\n",
      "\u001B[1m45/45\u001B[0m \u001B[32m━━━━━━━━━━━━━━━━━━━━\u001B[0m\u001B[37m\u001B[0m \u001B[1m0s\u001B[0m 893us/step - accuracy: 0.6115 - loss: 0.6275 - val_accuracy: 0.5922 - val_loss: 0.6388\n",
      "Epoch 14/40\n",
      "\u001B[1m45/45\u001B[0m \u001B[32m━━━━━━━━━━━━━━━━━━━━\u001B[0m\u001B[37m\u001B[0m \u001B[1m0s\u001B[0m 867us/step - accuracy: 0.6237 - loss: 0.6166 - val_accuracy: 0.5922 - val_loss: 0.6351\n",
      "Epoch 15/40\n",
      "\u001B[1m45/45\u001B[0m \u001B[32m━━━━━━━━━━━━━━━━━━━━\u001B[0m\u001B[37m\u001B[0m \u001B[1m0s\u001B[0m 889us/step - accuracy: 0.6116 - loss: 0.6269 - val_accuracy: 0.5922 - val_loss: 0.6313\n",
      "Epoch 16/40\n",
      "\u001B[1m45/45\u001B[0m \u001B[32m━━━━━━━━━━━━━━━━━━━━\u001B[0m\u001B[37m\u001B[0m \u001B[1m0s\u001B[0m 967us/step - accuracy: 0.6411 - loss: 0.6046 - val_accuracy: 0.5922 - val_loss: 0.6275\n",
      "Epoch 17/40\n",
      "\u001B[1m45/45\u001B[0m \u001B[32m━━━━━━━━━━━━━━━━━━━━\u001B[0m\u001B[37m\u001B[0m \u001B[1m0s\u001B[0m 947us/step - accuracy: 0.5993 - loss: 0.6224 - val_accuracy: 0.5922 - val_loss: 0.6235\n",
      "Epoch 18/40\n",
      "\u001B[1m45/45\u001B[0m \u001B[32m━━━━━━━━━━━━━━━━━━━━\u001B[0m\u001B[37m\u001B[0m \u001B[1m0s\u001B[0m 922us/step - accuracy: 0.6193 - loss: 0.6066 - val_accuracy: 0.5922 - val_loss: 0.6200\n",
      "Epoch 19/40\n",
      "\u001B[1m45/45\u001B[0m \u001B[32m━━━━━━━━━━━━━━━━━━━━\u001B[0m\u001B[37m\u001B[0m \u001B[1m0s\u001B[0m 911us/step - accuracy: 0.6184 - loss: 0.6001 - val_accuracy: 0.5922 - val_loss: 0.6161\n",
      "Epoch 20/40\n",
      "\u001B[1m45/45\u001B[0m \u001B[32m━━━━━━━━━━━━━━━━━━━━\u001B[0m\u001B[37m\u001B[0m \u001B[1m0s\u001B[0m 972us/step - accuracy: 0.5824 - loss: 0.6109 - val_accuracy: 0.5922 - val_loss: 0.6124\n",
      "Epoch 21/40\n",
      "\u001B[1m45/45\u001B[0m \u001B[32m━━━━━━━━━━━━━━━━━━━━\u001B[0m\u001B[37m\u001B[0m \u001B[1m0s\u001B[0m 936us/step - accuracy: 0.6200 - loss: 0.5912 - val_accuracy: 0.5922 - val_loss: 0.6090\n",
      "Epoch 22/40\n",
      "\u001B[1m45/45\u001B[0m \u001B[32m━━━━━━━━━━━━━━━━━━━━\u001B[0m\u001B[37m\u001B[0m \u001B[1m0s\u001B[0m 853us/step - accuracy: 0.6139 - loss: 0.5845 - val_accuracy: 0.5922 - val_loss: 0.6054\n",
      "Epoch 23/40\n",
      "\u001B[1m45/45\u001B[0m \u001B[32m━━━━━━━━━━━━━━━━━━━━\u001B[0m\u001B[37m\u001B[0m \u001B[1m0s\u001B[0m 915us/step - accuracy: 0.6097 - loss: 0.5946 - val_accuracy: 0.5922 - val_loss: 0.6022\n",
      "Epoch 24/40\n",
      "\u001B[1m45/45\u001B[0m \u001B[32m━━━━━━━━━━━━━━━━━━━━\u001B[0m\u001B[37m\u001B[0m \u001B[1m0s\u001B[0m 889us/step - accuracy: 0.6240 - loss: 0.5762 - val_accuracy: 0.5922 - val_loss: 0.5990\n",
      "Epoch 25/40\n",
      "\u001B[1m45/45\u001B[0m \u001B[32m━━━━━━━━━━━━━━━━━━━━\u001B[0m\u001B[37m\u001B[0m \u001B[1m0s\u001B[0m 852us/step - accuracy: 0.5855 - loss: 0.5953 - val_accuracy: 0.5922 - val_loss: 0.5960\n",
      "Epoch 26/40\n",
      "\u001B[1m45/45\u001B[0m \u001B[32m━━━━━━━━━━━━━━━━━━━━\u001B[0m\u001B[37m\u001B[0m \u001B[1m0s\u001B[0m 880us/step - accuracy: 0.6365 - loss: 0.5694 - val_accuracy: 0.5922 - val_loss: 0.5930\n",
      "Epoch 27/40\n",
      "\u001B[1m45/45\u001B[0m \u001B[32m━━━━━━━━━━━━━━━━━━━━\u001B[0m\u001B[37m\u001B[0m \u001B[1m0s\u001B[0m 840us/step - accuracy: 0.6217 - loss: 0.5724 - val_accuracy: 0.5922 - val_loss: 0.5902\n",
      "Epoch 28/40\n",
      "\u001B[1m45/45\u001B[0m \u001B[32m━━━━━━━━━━━━━━━━━━━━\u001B[0m\u001B[37m\u001B[0m \u001B[1m0s\u001B[0m 798us/step - accuracy: 0.6353 - loss: 0.5637 - val_accuracy: 0.5922 - val_loss: 0.5874\n",
      "Epoch 29/40\n",
      "\u001B[1m45/45\u001B[0m \u001B[32m━━━━━━━━━━━━━━━━━━━━\u001B[0m\u001B[37m\u001B[0m \u001B[1m0s\u001B[0m 789us/step - accuracy: 0.6388 - loss: 0.5525 - val_accuracy: 0.5922 - val_loss: 0.5845\n",
      "Epoch 30/40\n",
      "\u001B[1m45/45\u001B[0m \u001B[32m━━━━━━━━━━━━━━━━━━━━\u001B[0m\u001B[37m\u001B[0m \u001B[1m0s\u001B[0m 747us/step - accuracy: 0.6506 - loss: 0.5557 - val_accuracy: 0.5922 - val_loss: 0.5820\n",
      "Epoch 31/40\n",
      "\u001B[1m45/45\u001B[0m \u001B[32m━━━━━━━━━━━━━━━━━━━━\u001B[0m\u001B[37m\u001B[0m \u001B[1m0s\u001B[0m 848us/step - accuracy: 0.6825 - loss: 0.5448 - val_accuracy: 0.7486 - val_loss: 0.5791\n",
      "Epoch 32/40\n",
      "\u001B[1m45/45\u001B[0m \u001B[32m━━━━━━━━━━━━━━━━━━━━\u001B[0m\u001B[37m\u001B[0m \u001B[1m0s\u001B[0m 829us/step - accuracy: 0.7958 - loss: 0.5653 - val_accuracy: 0.7765 - val_loss: 0.5765\n",
      "Epoch 33/40\n",
      "\u001B[1m45/45\u001B[0m \u001B[32m━━━━━━━━━━━━━━━━━━━━\u001B[0m\u001B[37m\u001B[0m \u001B[1m0s\u001B[0m 787us/step - accuracy: 0.7833 - loss: 0.5511 - val_accuracy: 0.7765 - val_loss: 0.5744\n",
      "Epoch 34/40\n",
      "\u001B[1m45/45\u001B[0m \u001B[32m━━━━━━━━━━━━━━━━━━━━\u001B[0m\u001B[37m\u001B[0m \u001B[1m0s\u001B[0m 826us/step - accuracy: 0.7772 - loss: 0.5581 - val_accuracy: 0.7765 - val_loss: 0.5717\n",
      "Epoch 35/40\n",
      "\u001B[1m45/45\u001B[0m \u001B[32m━━━━━━━━━━━━━━━━━━━━\u001B[0m\u001B[37m\u001B[0m \u001B[1m0s\u001B[0m 777us/step - accuracy: 0.7881 - loss: 0.5464 - val_accuracy: 0.7765 - val_loss: 0.5696\n",
      "Epoch 36/40\n",
      "\u001B[1m45/45\u001B[0m \u001B[32m━━━━━━━━━━━━━━━━━━━━\u001B[0m\u001B[37m\u001B[0m \u001B[1m0s\u001B[0m 756us/step - accuracy: 0.7812 - loss: 0.5491 - val_accuracy: 0.7765 - val_loss: 0.5674\n",
      "Epoch 37/40\n",
      "\u001B[1m45/45\u001B[0m \u001B[32m━━━━━━━━━━━━━━━━━━━━\u001B[0m\u001B[37m\u001B[0m \u001B[1m0s\u001B[0m 853us/step - accuracy: 0.7877 - loss: 0.5432 - val_accuracy: 0.7765 - val_loss: 0.5652\n",
      "Epoch 38/40\n",
      "\u001B[1m45/45\u001B[0m \u001B[32m━━━━━━━━━━━━━━━━━━━━\u001B[0m\u001B[37m\u001B[0m \u001B[1m0s\u001B[0m 848us/step - accuracy: 0.7824 - loss: 0.5423 - val_accuracy: 0.7765 - val_loss: 0.5630\n",
      "Epoch 39/40\n",
      "\u001B[1m45/45\u001B[0m \u001B[32m━━━━━━━━━━━━━━━━━━━━\u001B[0m\u001B[37m\u001B[0m \u001B[1m0s\u001B[0m 779us/step - accuracy: 0.8206 - loss: 0.5070 - val_accuracy: 0.7765 - val_loss: 0.5613\n",
      "Epoch 40/40\n",
      "\u001B[1m45/45\u001B[0m \u001B[32m━━━━━━━━━━━━━━━━━━━━\u001B[0m\u001B[37m\u001B[0m \u001B[1m0s\u001B[0m 786us/step - accuracy: 0.7962 - loss: 0.5329 - val_accuracy: 0.7765 - val_loss: 0.5592\n",
      "\u001B[1m14/14\u001B[0m \u001B[32m━━━━━━━━━━━━━━━━━━━━\u001B[0m\u001B[37m\u001B[0m \u001B[1m0s\u001B[0m 1ms/step \n",
      "Model saved - titanic_model.keras\n",
      "Accuracy: 1.0\n"
     ]
    }
   ],
   "execution_count": 124
  },
  {
   "metadata": {},
   "cell_type": "markdown",
   "source": "### Plotten",
   "id": "95a65e2f4ffc4e23"
  },
  {
   "metadata": {
    "ExecuteTime": {
     "end_time": "2024-05-23T19:29:50.547666Z",
     "start_time": "2024-05-23T19:29:50.412117Z"
    }
   },
   "cell_type": "code",
   "source": [
    "plt.plot(history.history['loss'], label='Training Loss')\n",
    "plt.plot(history.history['val_loss'], label='Validation Loss')\n",
    "plt.title('Loss Curve')\n",
    "plt.xlabel('Epochs')\n",
    "plt.ylabel('Loss')\n",
    "plt.legend()\n",
    "plt.show()"
   ],
   "id": "214f4a092c0530ac",
   "outputs": [
    {
     "data": {
      "text/plain": [
       "<Figure size 640x480 with 1 Axes>"
      ],
      "image/png": "[encoded data removed]"
     },
     "metadata": {},
     "output_type": "display_data"
    }
   ],
   "execution_count": 125
  }
 ],
 "metadata": {
  "kernelspec": {
   "display_name": "Python 3",
   "language": "python",
   "name": "python3"
  },
  "language_info": {
   "codemirror_mode": {
    "name": "ipython",
    "version": 2
   },
   "file_extension": ".py",
   "mimetype": "text/x-python",
   "name": "python",
   "nbconvert_exporter": "python",
   "pygments_lexer": "ipython2",
   "version": "2.7.6"
  }
 },
 "nbformat": 4,
 "nbformat_minor": 5
}
