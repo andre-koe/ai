{
 "cells": [
  {
   "metadata": {},
   "cell_type": "markdown",
   "source": "# Jupyter notebook sample",
   "id": "45394bd5e460a320"
  },
  {
   "metadata": {
    "ExecuteTime": {
     "end_time": "2024-06-13T18:04:31.119409Z",
     "start_time": "2024-06-13T18:04:27.153185Z"
    }
   },
   "cell_type": "code",
   "source": [
    "import matplotlib.pyplot as plt\n",
    "import numpy as np\n",
    "import os\n",
    "import tensorflow as tf\n",
    "from keras.optimizers import Adam\n",
    "from sklearn.metrics import confusion_matrix\n",
    "\n",
    "from keras.datasets import mnist\n",
    "import keras\n",
    "\n",
    "%matplotlib inline\n",
    "plt.style.use('default')"
   ],
   "id": "ba135a8e09f0e97a",
   "execution_count": 1,
   "outputs": []
  },
  {
   "metadata": {},
   "cell_type": "markdown",
   "source": [
    "### Loading MNIST data\n",
    "\n",
    "Effortlessly view, navigate, sort, and filter data. Create charts and access essential data insights, including descriptive statistics and missing values – all without writing a single line of code."
   ],
   "id": "54d0a2d5aed6a2de"
  },
  {
   "metadata": {
    "ExecuteTime": {
     "end_time": "2024-06-13T18:05:36.058982Z",
     "start_time": "2024-06-13T18:05:35.467519Z"
    }
   },
   "cell_type": "code",
   "source": [
    "(x_train, y_train), (x_test, y_test) = mnist.load_data()\n",
    "\n",
    "# separate x_train in X_train and X_val, same for y_train\n",
    "X_train=x_train[0:50000] / 255 #divide by 255 so that they are in range 0 to 1\n",
    "Y_train=keras.utils.to_categorical(y_train[0:50000],10) # one-hot encoding\n",
    "\n",
    "X_val=x_train[50000:60000] / 255\n",
    "Y_val=keras.utils.to_categorical(y_train[50000:60000],10)\n",
    "\n",
    "X_test=x_test / 255\n",
    "Y_test=keras.utils.to_categorical(y_test,10)\n",
    "\n",
    "#print(X_test[0])\n",
    "\n",
    "del x_train, y_train, x_test, y_test\n",
    "\n",
    "X_train=np.reshape(X_train, (X_train.shape[0],28,28,1))\n",
    "X_val=np.reshape(X_val, (X_val.shape[0],28,28,1))\n",
    "X_test=np.reshape(X_test, (X_test.shape[0],28,28,1))\n",
    "\n",
    "#print(X_train.shape)\n",
    "#print(X_val.shape)\n",
    "#print(X_test.shape)\n",
    "#print(Y_train.shape)\n",
    "#print(Y_val.shape)\n",
    "#print(Y_test.shape)"
   ],
   "id": "6da860413cddbac0",
   "execution_count": 3,
   "outputs": []
  },
  {
   "metadata": {},
   "cell_type": "markdown",
   "source": [
    "### Visualization in IDE\n",
    "\n",
    "Create graphs and visualizations that match your chosen color scheme."
   ],
   "id": "ab56989f9c3a9c86"
  },
  {
   "metadata": {},
   "cell_type": "code",
   "outputs": [],
   "execution_count": null,
   "source": [
    "# relabel\n",
    "def relabel(labels, threshold=5):\n",
    "    relabeled = []\n",
    "    for label in labels:\n",
    "        if np.argmax(label) >= threshold:\n",
    "            relabeled.append([1,0])\n",
    "        else:\n",
    "            relabeled.append([0,1])\n",
    "    return np.array(relabeled,dtype=np.float32)\n",
    "\n",
    "Y_train_relabeled = relabel(Y_train)\n",
    "Y_val_relabeled = relabel(Y_val)\n",
    "Y_test_relabeled = relabel(Y_test)"
   ],
   "id": "1df2c9f6e6cdf384"
  },
  {
   "metadata": {},
   "cell_type": "code",
   "outputs": [],
   "execution_count": null,
   "source": [
    "base_model = tf.keras.models.load_model(\"../aufgabe5/e6.keras\")\n",
    "base_model.pop()\n",
    "base_model.trainable = False\n",
    "base_model.summary()\n",
    "tf.keras.utils.plot_model(base_model)"
   ],
   "id": "4f3ea6d689c8a625"
  },
  {
   "metadata": {},
   "cell_type": "markdown",
   "source": [
    "Der folgende Code funktioniert nicht:\n",
    "```python\n",
    "inputs = base_model.inputs\n",
    "x = base_model(inputs, training=False)\n",
    "output = Dense(2, activation='softmax')(x)\n",
    "\n",
    "model = Model(inputs, output)\n",
    "```\n",
    "\n",
    "Auch der hier funktioniert nicht, selber Fehler:\n",
    "\n",
    "```python\n",
    "inputs = base_model.inputs\n",
    "x = base_model.output\n",
    "output = Dense(2, activation='softmax')(x)\n",
    "```\n",
    "\n",
    "Er führt im evaluierungsschritt und training zu\n",
    "\n",
    "> ValueError: The metric has not been built.\n",
    "\n",
    "\n",
    "Nur das hier funktioniert:\n",
    "```python\n",
    "inputs = base_model.inputs\n",
    "x = base_model(inputs, training=False)\n",
    "output = Dense(2, activation='softmax')(base_model.layers[-1].output)\n",
    "```"
   ],
   "id": "b500614694f46537"
  },
  {
   "metadata": {},
   "cell_type": "code",
   "outputs": [],
   "execution_count": null,
   "source": [
    "from keras.src.layers import Dense\n",
    "from keras import Model\n",
    "\n",
    "inputs = base_model.inputs\n",
    "output = Dense(2, activation='softmax')(base_model.layers[-1].output)\n",
    "\n",
    "model = Model(inputs=inputs, outputs=output)\n",
    "model.summary()"
   ],
   "id": "34fa802b1bf1de8d"
  },
  {
   "metadata": {},
   "cell_type": "code",
   "outputs": [],
   "execution_count": null,
   "source": "tf.keras.utils.plot_model(model)",
   "id": "6bce9804bf692e72"
  },
  {
   "metadata": {},
   "cell_type": "code",
   "outputs": [],
   "execution_count": null,
   "source": [
    "learning_rate = 0.0001\n",
    "optimizer=tf.keras.optimizers.Adam(learning_rate=learning_rate)\n",
    "model.compile(optimizer=optimizer, loss=\"categorical_crossentropy\", metrics=['accuracy'])\n",
    "model.summary()"
   ],
   "id": "efb775e3b2aa079a"
  },
  {
   "metadata": {},
   "cell_type": "code",
   "outputs": [],
   "execution_count": null,
   "source": [
    "keras.config.disable_traceback_filtering()\n",
    "t = model.evaluate(x = X_test, y = Y_test_relabeled)\n",
    "print(t)"
   ],
   "id": "6b48b1b38ceded8a"
  },
  {
   "metadata": {},
   "cell_type": "code",
   "outputs": [],
   "execution_count": null,
   "source": [
    "epochs = 10\n",
    "history = model.fit(X_train, Y_train_relabeled, batch_size=128, epochs=epochs, validation_data=(X_val, Y_val_relabeled))"
   ],
   "id": "58026346a0ac1a7c"
  },
  {
   "metadata": {},
   "cell_type": "code",
   "outputs": [],
   "execution_count": null,
   "source": [
    "plt.figure(figsize=(12,4))\n",
    "plt.subplot(1, 2, 1)\n",
    "plt.plot(history.history['accuracy'], linestyle='-.')\n",
    "plt.plot(history.history['val_accuracy'])\n",
    "plt.title('model accuracy')\n",
    "plt.ylabel('accuracy')\n",
    "plt.xlabel('epoch')\n",
    "plt.legend(['train', 'val'], loc='lower right')\n",
    "plt.subplot(1, 2, 2)\n",
    "plt.plot(history.history['loss'], linestyle='-.')\n",
    "plt.plot(history.history['val_loss'])\n",
    "plt.title('model loss')\n",
    "plt.ylabel('loss')\n",
    "plt.xlabel('epoch')\n",
    "plt.legend(['train', 'val'], loc='upper right')"
   ],
   "id": "c71839f431e2de01"
  },
  {
   "metadata": {},
   "cell_type": "code",
   "outputs": [],
   "execution_count": null,
   "source": [
    "pred = model.predict(X_test)\n",
    "print(confusion_matrix(np.argmax(Y_test_relabeled,axis=1), np.argmax(pred, axis=1)))\n",
    "acc_fc_orig = np.sum(np.argmax(Y_test_relabeled,axis=1) == np.argmax(pred, axis=1)) / len(pred)\n",
    "print(\"Acc_fc_orig_flat = \", acc_fc_orig)"
   ],
   "id": "8bf78b6f4e5f9b5d"
  }
 ],
 "metadata": {
  "kernelspec": {
   "display_name": "Python 3",
   "language": "python",
   "name": "python3"
  },
  "language_info": {
   "codemirror_mode": {
    "name": "ipython",
    "version": 2
   },
   "file_extension": ".py",
   "mimetype": "text/x-python",
   "name": "python",
   "nbconvert_exporter": "python",
   "pygments_lexer": "ipython2",
   "version": "2.7.6"
  }
 },
 "nbformat": 4,
 "nbformat_minor": 5
}
